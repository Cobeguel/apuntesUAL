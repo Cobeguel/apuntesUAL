{
 "cells": [
  {
   "cell_type": "markdown",
   "metadata": {},
   "source": [
    "# Ejemplo2\n",
    "\n",
    "Texto de ejemplo numero 2\n",
    "\n",
    "## Sección\n",
    "\n",
    "Si esto funciona, entonces se deberá meter el siguiente código\n",
    "\n",
    "```c++\n",
    "int main(){\n",
    "  print(\"Wepale\");\n",
    "}\n",
    "```\n",
    "\n",
    "[//]: # ($\\displaystyle\\sum_{i=0}^{n}=\\dfrac{n\\cdot (n+1)}{2})$)\n",
    "\n",
    "\n",
    "\\\\[ x = {-b \\pm \\sqrt{b^2-4ac} \\over 2a} \\\\]\n",
    "\n",
    "$$\n",
    "\\begin{align*}\n",
    "a_1 &= \\beta_0 \\\\\n",
    "b_1 &= \\beta_1 \\\\\n",
    "c_1 &= \\beta_2 \\\\\n",
    "d_1 &= \\beta_3\n",
    "\\end{align*}\n",
    "$$"
   ]
  },
  {
   "cell_type": "code",
   "execution_count": null,
   "metadata": {},
   "outputs": [],
   "source": []
  }
 ],
 "metadata": {
  "kernelspec": {
   "display_name": "Python 3",
   "language": "python",
   "name": "python3"
  },
  "language_info": {
   "codemirror_mode": {
    "name": "ipython",
    "version": 3
   },
   "file_extension": ".py",
   "mimetype": "text/x-python",
   "name": "python",
   "nbconvert_exporter": "python",
   "pygments_lexer": "ipython3",
   "version": "3.8.5"
  }
 },
 "nbformat": 4,
 "nbformat_minor": 4
}
